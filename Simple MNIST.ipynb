{
  "cells": [
    {
      "cell_type": "markdown",
      "metadata": {
        "id": "view-in-github",
        "colab_type": "text"
      },
      "source": [
        "<a href=\"https://colab.research.google.com/github/ContrerasCr/deeptest/blob/main/Simple%20MNIST.ipynb\" target=\"_parent\"><img src=\"https://colab.research.google.com/assets/colab-badge.svg\" alt=\"Open In Colab\"/></a>"
      ]
    },
    {
      "cell_type": "code",
      "execution_count": null,
      "metadata": {
        "id": "RcNhJjJJGgqt"
      },
      "outputs": [],
      "source": [
        "import tensorflow as tf\n",
        "from tensorflow import keras\n",
        "from tensorflow.keras import layers\n",
        "import numpy as np"
      ]
    },
    {
      "cell_type": "code",
      "execution_count": null,
      "metadata": {
        "colab": {
          "base_uri": "https://localhost:8080/"
        },
        "id": "tWRv3eYEHCWw",
        "outputId": "4246882a-787e-40a2-ec3a-67cdc9e14c8c"
      },
      "outputs": [
        {
          "name": "stdout",
          "output_type": "stream",
          "text": [
            "Downloading data from https://storage.googleapis.com/tensorflow/tf-keras-datasets/mnist.npz\n",
            "11493376/11490434 [==============================] - 0s 0us/step\n",
            "11501568/11490434 [==============================] - 0s 0us/step\n",
            "x_train shape: (60000, 28, 28, 1)\n",
            "60000 train samples\n",
            "10000 test samples\n"
          ]
        }
      ],
      "source": [
        "# Model / data parameters\n",
        "num_classes = 10\n",
        "input_shape = (28, 28, 1)\n",
        "\n",
        "# the data, split between train and test sets\n",
        "(x_train, y_train), (x_test, y_test) = keras.datasets.mnist.load_data()\n",
        "\n",
        "# Scale images to the [0, 1] range\n",
        "x_train = x_train.astype(\"float32\") / 255\n",
        "x_test = x_test.astype(\"float32\") / 255\n",
        "# Make sure images have shape (28, 28, 1)\n",
        "x_train = np.expand_dims(x_train, -1)\n",
        "x_test = np.expand_dims(x_test, -1)\n",
        "print(\"x_train shape:\", x_train.shape)\n",
        "print(x_train.shape[0], \"train samples\")\n",
        "print(x_test.shape[0], \"test samples\")\n",
        "\n",
        "\n",
        "# convert class vectors to binary class matrices\n",
        "y_train = keras.utils.to_categorical(y_train, num_classes)\n",
        "y_test = keras.utils.to_categorical(y_test, num_classes)"
      ]
    },
    {
      "cell_type": "code",
      "execution_count": null,
      "metadata": {
        "colab": {
          "base_uri": "https://localhost:8080/"
        },
        "id": "d7j8rTGXIpVJ",
        "outputId": "c270a9c3-3883-4f55-85c8-51ac277b8bde"
      },
      "outputs": [
        {
          "name": "stdout",
          "output_type": "stream",
          "text": [
            "Model: \"sequential\"\n",
            "_________________________________________________________________\n",
            " Layer (type)                Output Shape              Param #   \n",
            "=================================================================\n",
            " conv2d (Conv2D)             (None, 26, 26, 32)        320       \n",
            "                                                                 \n",
            " max_pooling2d (MaxPooling2D  (None, 13, 13, 32)       0         \n",
            " )                                                               \n",
            "                                                                 \n",
            " conv2d_1 (Conv2D)           (None, 11, 11, 64)        18496     \n",
            "                                                                 \n",
            " max_pooling2d_1 (MaxPooling  (None, 5, 5, 64)         0         \n",
            " 2D)                                                             \n",
            "                                                                 \n",
            " flatten (Flatten)           (None, 1600)              0         \n",
            "                                                                 \n",
            " dropout (Dropout)           (None, 1600)              0         \n",
            "                                                                 \n",
            " dense (Dense)               (None, 10)                16010     \n",
            "                                                                 \n",
            "=================================================================\n",
            "Total params: 34,826\n",
            "Trainable params: 34,826\n",
            "Non-trainable params: 0\n",
            "_________________________________________________________________\n"
          ]
        }
      ],
      "source": [
        "model = keras.Sequential(\n",
        "    [\n",
        "        keras.Input(shape=input_shape),\n",
        "        layers.Conv2D(32, kernel_size=(3, 3), activation=\"relu\"),\n",
        "        layers.MaxPooling2D(pool_size=(2, 2)),\n",
        "        layers.Conv2D(64, kernel_size=(3, 3), activation=\"relu\"),\n",
        "        layers.MaxPooling2D(pool_size=(2, 2)),\n",
        "        layers.Flatten(),\n",
        "        layers.Dropout(0.5),\n",
        "        layers.Dense(num_classes, activation=\"softmax\"),\n",
        "    ]\n",
        ")\n",
        "\n",
        "model.summary()"
      ]
    },
    {
      "cell_type": "code",
      "execution_count": null,
      "metadata": {
        "colab": {
          "background_save": true,
          "base_uri": "https://localhost:8080/"
        },
        "id": "BfyRTGfxJBGb",
        "outputId": "95fa4cdb-c4bd-443a-c36e-dd0a32c87ad8"
      },
      "outputs": [
        {
          "name": "stdout",
          "output_type": "stream",
          "text": [
            "Epoch 1/15\n",
            "422/422 [==============================] - 45s 104ms/step - loss: 0.3846 - accuracy: 0.8836 - val_loss: 0.0836 - val_accuracy: 0.9782\n",
            "Epoch 2/15\n",
            "422/422 [==============================] - 42s 100ms/step - loss: 0.1142 - accuracy: 0.9662 - val_loss: 0.0565 - val_accuracy: 0.9852\n",
            "Epoch 3/15\n",
            "422/422 [==============================] - 43s 102ms/step - loss: 0.0866 - accuracy: 0.9731 - val_loss: 0.0501 - val_accuracy: 0.9867\n",
            "Epoch 4/15\n",
            "422/422 [==============================] - 43s 103ms/step - loss: 0.0731 - accuracy: 0.9766 - val_loss: 0.0440 - val_accuracy: 0.9883\n",
            "Epoch 5/15\n",
            "422/422 [==============================] - 43s 102ms/step - loss: 0.0632 - accuracy: 0.9809 - val_loss: 0.0394 - val_accuracy: 0.9893\n",
            "Epoch 6/15\n",
            "422/422 [==============================] - 44s 105ms/step - loss: 0.0566 - accuracy: 0.9821 - val_loss: 0.0364 - val_accuracy: 0.9902\n",
            "Epoch 7/15\n",
            "422/422 [==============================] - 43s 101ms/step - loss: 0.0523 - accuracy: 0.9837 - val_loss: 0.0355 - val_accuracy: 0.9920\n",
            "Epoch 8/15\n",
            "422/422 [==============================] - 43s 102ms/step - loss: 0.0472 - accuracy: 0.9850 - val_loss: 0.0393 - val_accuracy: 0.9892\n",
            "Epoch 9/15\n",
            "422/422 [==============================] - 43s 101ms/step - loss: 0.0441 - accuracy: 0.9859 - val_loss: 0.0309 - val_accuracy: 0.9913\n",
            "Epoch 10/15\n",
            "422/422 [==============================] - 42s 101ms/step - loss: 0.0411 - accuracy: 0.9869 - val_loss: 0.0346 - val_accuracy: 0.9913\n",
            "Epoch 11/15\n",
            "422/422 [==============================] - 42s 100ms/step - loss: 0.0388 - accuracy: 0.9879 - val_loss: 0.0326 - val_accuracy: 0.9912\n",
            "Epoch 12/15\n",
            "422/422 [==============================] - 41s 97ms/step - loss: 0.0370 - accuracy: 0.9881 - val_loss: 0.0301 - val_accuracy: 0.9925\n",
            "Epoch 13/15\n",
            "422/422 [==============================] - 41s 98ms/step - loss: 0.0342 - accuracy: 0.9891 - val_loss: 0.0303 - val_accuracy: 0.9923\n",
            "Epoch 14/15\n",
            "422/422 [==============================] - 42s 99ms/step - loss: 0.0340 - accuracy: 0.9889 - val_loss: 0.0290 - val_accuracy: 0.9923\n",
            "Epoch 15/15\n",
            "422/422 [==============================] - 42s 98ms/step - loss: 0.0330 - accuracy: 0.9895 - val_loss: 0.0295 - val_accuracy: 0.9917\n"
          ]
        },
        {
          "data": {
            "text/plain": [
              "<keras.callbacks.History at 0x7f70a6a15a10>"
            ]
          },
          "execution_count": null,
          "metadata": {},
          "output_type": "execute_result"
        }
      ],
      "source": [
        "batch_size = 128\n",
        "epochs = 15\n",
        "\n",
        "model.compile(loss=\"categorical_crossentropy\", optimizer=\"adam\", metrics=[\"accuracy\"])\n",
        "\n",
        "model.fit(x_train, y_train, batch_size=batch_size, epochs=epochs, validation_split=0.1)"
      ]
    },
    {
      "cell_type": "code",
      "execution_count": null,
      "metadata": {
        "colab": {
          "base_uri": "https://localhost:8080/"
        },
        "id": "bqLv34CbJtfP",
        "outputId": "4af1e838-3607-4b9a-e7cc-ebc9e5f19485"
      },
      "outputs": [
        {
          "name": "stdout",
          "output_type": "stream",
          "text": [
            "Test loss: 0.02836301177740097\n",
            "Test accuracy: 0.9900000095367432\n"
          ]
        }
      ],
      "source": [
        "score = model.evaluate(x_test, y_test, verbose=0)\n",
        "print(\"Test loss:\", score[0])\n",
        "print(\"Test accuracy:\", score[1])"
      ]
    },
    {
      "cell_type": "code",
      "source": [
        ""
      ],
      "metadata": {
        "id": "Thw2MyIdTbf6"
      },
      "execution_count": null,
      "outputs": []
    }
  ],
  "metadata": {
    "accelerator": "GPU",
    "colab": {
      "name": "Untitled2.ipynb",
      "provenance": [],
      "authorship_tag": "ABX9TyMRFbVdLG9Y7GO0xtCvYNvf",
      "include_colab_link": true
    },
    "kernelspec": {
      "display_name": "Python 3",
      "name": "python3"
    },
    "language_info": {
      "name": "python"
    }
  },
  "nbformat": 4,
  "nbformat_minor": 0
}